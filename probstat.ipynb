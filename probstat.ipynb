{
 "cells": [
  {
   "cell_type": "code",
   "execution_count": 1,
   "metadata": {},
   "outputs": [],
   "source": [
    "# Dependencies\n",
    "import pandas as pd"
   ]
  },
  {
   "cell_type": "code",
   "execution_count": 8,
   "metadata": {},
   "outputs": [
    {
     "name": "stdout",
     "output_type": "stream",
     "text": [
      "Length:  2000\n",
      "\n",
      "Attributes:  Index(['Unnamed: 0', 'Calories', 'Serving', 'Protein', 'Sugar', 'Sodium',\n",
      "       'Fat', 'Fiber', 'Flavour', 'Popularity'],\n",
      "      dtype='object')\n",
      "\n",
      "   Unnamed: 0    Calories    Serving   Protein      Sugar     Sodium  \\\n",
      "0           0  199.093472  38.515232  1.900459  19.853806  74.674097   \n",
      "1           1  200.593259  40.938412  2.808666  21.640665  76.748829   \n",
      "2           2  200.809089  40.107873  1.863457  20.106473  73.822751   \n",
      "3           3  199.505615  39.529170  2.819872  19.026629  73.351009   \n",
      "4           4  199.398557  39.840058  2.603907  21.735672  76.422204   \n",
      "\n",
      "        Fat     Fiber     Flavour  Popularity  \n",
      "0  7.587634  0.138605     Vanilla   41.259773  \n",
      "1  6.332619  0.569315  Strawberry   44.089254  \n",
      "2  6.377162  0.294916  Strawberry   46.941862  \n",
      "3  5.971648  0.181527  Strawberry   53.331791  \n",
      "4  6.924652  0.530055   Chocolate   48.471775  \n"
     ]
    }
   ],
   "source": [
    "# Load Data\n",
    "data = pd.read_csv('candy.csv')\n",
    "\n",
    "# Info Data\n",
    "LengthData = len(data)\n",
    "\n",
    "# Display Data\n",
    "print(\"Length: \", len(data))\n",
    "print()\n",
    "print(\"Attributes: \", data.columns)\n",
    "print()\n",
    "print(data.head())"
   ]
  },
  {
   "cell_type": "markdown",
   "metadata": {},
   "source": [
    "1. Menulis deskripsi statistika (Descriptive Statistics) dari semua kolom pada data. Data yang bersifat numerik dapat diberikan nilai mean, median, modus, standar deviasi, variansi, range, nilai minimum, maksimum, kuartil, IQR, skewness dan kurtosis. Data dalam bentuk string dapat dicari unique values, dan proporsi nya. "
   ]
  },
  {
   "cell_type": "code",
   "execution_count": null,
   "metadata": {},
   "outputs": [],
   "source": [
    "# 1\n"
   ]
  },
  {
   "cell_type": "code",
   "execution_count": null,
   "metadata": {},
   "outputs": [],
   "source": [
    "# Test 1"
   ]
  },
  {
   "cell_type": "markdown",
   "metadata": {},
   "source": [
    "2. Apakah pada data tersebut terdapat outlier? Jika ya, dapatkah anda menanganinya? Jelaskan apa yang umumnya dilakukan untuk menangani outlier."
   ]
  },
  {
   "cell_type": "code",
   "execution_count": null,
   "metadata": {},
   "outputs": [],
   "source": [
    "# 2"
   ]
  },
  {
   "cell_type": "code",
   "execution_count": null,
   "metadata": {},
   "outputs": [],
   "source": [
    "# Test 2"
   ]
  },
  {
   "cell_type": "markdown",
   "metadata": {},
   "source": [
    "3. Membuat Visualisasi plot distribusi. Berikan uraian penjelasan kondisi setiap kolom berdasarkan kedua plot tersebut. Jika numerik dapat dibuat dalam bentuk histogram dan box plot, dan jika string dengan histogram. "
   ]
  },
  {
   "cell_type": "code",
   "execution_count": null,
   "metadata": {},
   "outputs": [],
   "source": [
    "# 3"
   ]
  },
  {
   "cell_type": "code",
   "execution_count": null,
   "metadata": {},
   "outputs": [],
   "source": [
    "# Test 3"
   ]
  },
  {
   "cell_type": "markdown",
   "metadata": {},
   "source": [
    "4. Menentukan distribusi setiap kolom numerik menggunakan hasil visualisasi histogram. Apakah kolom tersebut berdistribusi normal? Jika bukan, terdistribusi seperti apa kolom tersebut?"
   ]
  },
  {
   "cell_type": "code",
   "execution_count": null,
   "metadata": {},
   "outputs": [],
   "source": [
    "# 4"
   ]
  },
  {
   "cell_type": "code",
   "execution_count": null,
   "metadata": {},
   "outputs": [],
   "source": [
    "# Test 4"
   ]
  },
  {
   "cell_type": "markdown",
   "metadata": {},
   "source": [
    "Andi baru saja mendapatkan pekerjaan di sebuah perusahaan permen. Di hari pertama kerja, Ia diminta untuk mengamati permen-permen yang dihasilkan pada pabrik. Selain itu, ia juga diberikan dataset yang berisi informasi mengenai permen-permen yang baru diproduksi. Lalu, ia diminta untuk melakukan analisis statistika terhadap permen-permen tersebut serta melakukan berbagai pengujian terhadap berbagai hipotesis. Bantulah Andi dalam melakukan hal-hal tersebut!\n",
    "\n",
    "Atribut: Calories, Serving, Protein, Sugar, Sodium, Fat, Fiber, Flavour, Popularity\n",
    "\n",
    "Gunakan alpha = 0.05"
   ]
  },
  {
   "cell_type": "markdown",
   "metadata": {},
   "source": [
    "5. Hipotesis 1 sampel\n",
    "\n",
    "* Perusahaan menerima beberapa keluhan bahwa permennya kurang manis. Periksalah anda mengecek apakah rata-rata nilai Sugar di bawah 25?\n",
    "* Pada umumnya, rata-rata Serving untuk permen adalah 40 gram. Oleh karena itu, periksalah apakah rata-rata Serving permen yang diproduksi tidak bernilai 40 gram!\n",
    "* Periksalah apakah rata-rata Sodium untuk permen 20 baris terakhir tidak sama dengan 74!\n",
    "* Periksalah apakah proporsi nilai Protein yang lebih besar dari 3 tidak sama dengan 60% dari total dataset!\n"
   ]
  },
  {
   "cell_type": "code",
   "execution_count": 14,
   "metadata": {},
   "outputs": [
    {
     "name": "stdout",
     "output_type": "stream",
     "text": [
      "Rata-rata Sugar kurang dari 25, yaitu 20.00408047512155\n",
      "Rata-rata Serving tidak sama dengan 40, yaitu 39.98913901365223\n",
      "Rata-rata Sodium tidak sama dengan 74, yaitu 74.52736407351043\n",
      "Proporsi Protein tidak sama dengan 60%, yaitu 49.25 %\n"
     ]
    }
   ],
   "source": [
    "# 5 Tanpa Hipotesis\n",
    "alpha = 0.05\n",
    "\n",
    "# Perusahaan menerima beberapa keluhan bahwa permennya kurang manis. Periksalah anda mengecek apakah rata-rata nilai Sugar di bawah 25?\n",
    "avg_sugar = data['Sugar'].mean()\n",
    "assert avg_sugar < 25, \"Rata-rata Sugar tidak kurang dari 25\"\n",
    "print(\"Rata-rata Sugar kurang dari 25, yaitu\", avg_sugar)\n",
    "\n",
    "# Pada umumnya, rata-rata Serving untuk permen adalah 40 gram. Oleh karena itu, periksalah apakah rata-rata Serving permen yang diproduksi tidak bernilai 40 gram!\n",
    "avg_serving = data['Serving'].mean()\n",
    "assert avg_serving != 40, \"Rata-rata Serving tidak sama dengan 40\"\n",
    "print(\"Rata-rata Serving tidak sama dengan 40, yaitu\", avg_serving)\n",
    "\n",
    "# Periksalah apakah rata-rata Sodium untuk permen 20 baris terakhir tidak sama dengan 74!\n",
    "avg_sodium = data['Sodium'].tail(20).mean()\n",
    "assert avg_sodium != 74, \"Rata-rata Sodium tidak sama dengan 74\"\n",
    "print(\"Rata-rata Sodium tidak sama dengan 74, yaitu\", avg_sodium)\n",
    "\n",
    "# Periksalah apakah proporsi nilai Protein yang lebih besar dari 3 tidak sama dengan 60% dari total dataset!\n",
    "proporsi_protein = data['Protein'][data['Protein'] > 3].count() / len(data)\n",
    "assert proporsi_protein != 0.6, \"Proporsi Protein tidak sama dengan 60%\"\n",
    "print(\"Proporsi Protein tidak sama dengan 60%, yaitu\", proporsi_protein*100, \"%\")\n"
   ]
  },
  {
   "cell_type": "code",
   "execution_count": null,
   "metadata": {},
   "outputs": [
    {
     "name": "stdout",
     "output_type": "stream",
     "text": [
      "Rata-rata Sugar kurang dari 25, yaitu 20.00408047512155\n",
      "Rata-rata Serving tidak sama dengan 40, yaitu 39.98913901365223\n",
      "Rata-rata Sodium tidak sama dengan 74, yaitu 74.52736407351043\n",
      "Proporsi Protein tidak sama dengan 60%, yaitu 49.25 %\n"
     ]
    }
   ],
   "source": [
    "# 5 Dengan Hipotesis\n",
    "alpha = 0.05\n",
    "\n",
    "# Perusahaan menerima beberapa keluhan bahwa permennya kurang manis. Periksalah anda mengecek apakah rata-rata nilai Sugar di bawah 25?\n",
    "H0 = 25\n",
    "H1 = data['Sugar'].mean()\n",
    "\n",
    "# Pada umumnya, rata-rata Serving untuk permen adalah 40 gram. Oleh karena itu, periksalah apakah rata-rata Serving permen yang diproduksi tidak bernilai 40 gram!\n",
    "avg_serving = data['Serving'].mean()\n",
    "assert avg_serving != 40, \"Rata-rata Serving tidak sama dengan 40\"\n",
    "print(\"Rata-rata Serving tidak sama dengan 40, yaitu\", avg_serving)\n",
    "\n",
    "# Periksalah apakah rata-rata Sodium untuk permen 20 baris terakhir tidak sama dengan 74!\n",
    "avg_sodium = data['Sodium'].tail(20).mean()\n",
    "assert avg_sodium != 74, \"Rata-rata Sodium tidak sama dengan 74\"\n",
    "print(\"Rata-rata Sodium tidak sama dengan 74, yaitu\", avg_sodium)\n",
    "\n",
    "# Periksalah apakah proporsi nilai Protein yang lebih besar dari 3 tidak sama dengan 60% dari total dataset!\n",
    "proporsi_protein = data['Protein'][data['Protein'] > 3].count() / len(data)\n",
    "assert proporsi_protein != 0.6, \"Proporsi Protein tidak sama dengan 60%\"\n",
    "print(\"Proporsi Protein tidak sama dengan 60%, yaitu\", proporsi_protein*100, \"%\")\n"
   ]
  },
  {
   "cell_type": "code",
   "execution_count": null,
   "metadata": {},
   "outputs": [],
   "source": [
    "# Test 5"
   ]
  },
  {
   "cell_type": "markdown",
   "metadata": {},
   "source": [
    "6. Hipotesis 2 sampel\n",
    "Perusahaan ingin membandingkan kualitas permen yang diproduksi pada paruh awal dan paruh akhir produksi. Hal ini dapat dilakukan dengan membagi 1 dataset menjadi 2 bagian yang sama panjang. \n",
    "\n",
    "* Periksalah apakah rata-rata Sugar dari permen yang diproduksi bernilai sama pada kedua kurun waktu!\n",
    "* Bandingkan rata-rata Protein dari permen pada paruh awal dan akhir. Apakah rata-rata Protein pada dataset bagian awal lebih besar daripada bagian akhir sebesar 0.3 unit?\n",
    "* Periksalah apakah variansi dari Sodium dari permen sama pada paruh awal dan akhir!\n",
    "* Periksalah apakah proporsi Calories dari permen yang lebih dari 200 pada paruh awal lebih besar daripada proporsi di paruh akhir!\n"
   ]
  },
  {
   "cell_type": "code",
   "execution_count": null,
   "metadata": {},
   "outputs": [],
   "source": [
    "# 6\n",
    "# Periksalah apakah rata-rata Sugar dari permen yang diproduksi bernilai sama pada kedua kurun waktu!\n",
    "\n",
    "\n",
    "# Bandingkan rata-rata Protein dari permen pada paruh awal dan akhir. Apakah rata-rata Protein pada dataset bagian awal lebih besar daripada bagian akhir sebesar 0.3 unit?\n",
    "\n",
    "\n",
    "# Periksalah apakah variansi dari Sodium dari permen sama pada paruh awal dan akhir!\n",
    "\n",
    "\n",
    "# Periksalah apakah proporsi Calories dari permen yang lebih dari 200 pada paruh awal lebih besar daripada proporsi di paruh akhir!\n",
    "\n",
    "\n"
   ]
  },
  {
   "cell_type": "code",
   "execution_count": null,
   "metadata": {},
   "outputs": [],
   "source": [
    "# Test 6"
   ]
  }
 ],
 "metadata": {
  "kernelspec": {
   "display_name": "venv",
   "language": "python",
   "name": "python3"
  },
  "language_info": {
   "codemirror_mode": {
    "name": "ipython",
    "version": 3
   },
   "file_extension": ".py",
   "mimetype": "text/x-python",
   "name": "python",
   "nbconvert_exporter": "python",
   "pygments_lexer": "ipython3",
   "version": "3.10.9"
  }
 },
 "nbformat": 4,
 "nbformat_minor": 2
}
